{
 "cells": [
  {
   "cell_type": "code",
   "execution_count": 5,
   "metadata": {
    "scrolled": false
   },
   "outputs": [
    {
     "name": "stdout",
     "output_type": "stream",
     "text": [
      "1.18.4\n"
     ]
    }
   ],
   "source": [
    "# 1. Import numpy as np and see the version\n",
    "#     Q. Import numpy as np and print the version number.\n",
    "\n",
    "import numpy as np\n",
    "print(np.__version__)"
   ]
  },
  {
   "cell_type": "code",
   "execution_count": 6,
   "metadata": {},
   "outputs": [
    {
     "name": "stdout",
     "output_type": "stream",
     "text": [
      "[0 1 2 3 4 5 6 7 8 9]\n",
      "[0 1 2 3 4 5 6 7 8 9]\n"
     ]
    }
   ],
   "source": [
    "# 2. How to create a 1D array?\n",
    "#     Q. Create a 1D array of numbers from 0 to 9\n",
    "\n",
    "\n",
    "a = np.array([0, 1, 2, 3, 4, 5, 6, 7, 8, 9])\n",
    "b = np.arange(10)\n",
    "\n",
    "print(a)\n",
    "print(b)"
   ]
  },
  {
   "cell_type": "code",
   "execution_count": 7,
   "metadata": {},
   "outputs": [
    {
     "name": "stdout",
     "output_type": "stream",
     "text": [
      "[[ True  True  True]\n",
      " [ True  True  True]\n",
      " [ True  True  True]]\n",
      "\n",
      "[[ True  True  True]\n",
      " [ True  True  True]\n",
      " [ True  True  True]]\n"
     ]
    }
   ],
   "source": [
    "# 3. How to create a boolean array?\n",
    "#     Q. Create a 3×3 numpy array of all True’s\n",
    "\n",
    "\n",
    "c = np.full((3, 3,), True, dtype=bool)\n",
    "d = np.ones((3, 3), dtype=bool)\n",
    "\n",
    "print(c)\n",
    "print()\n",
    "print(d)"
   ]
  },
  {
   "cell_type": "code",
   "execution_count": 8,
   "metadata": {},
   "outputs": [
    {
     "name": "stdout",
     "output_type": "stream",
     "text": [
      "[1 3 5 7 9]\n"
     ]
    }
   ],
   "source": [
    "# 4. How to extract items that satisfy a given condition from 1D array?\n",
    "#     Q. Extract all odd numbers from arr\n",
    "\n",
    "e = np.array([0, 1, 2, 3, 4, 5, 6, 7, 8, 9])  # input\n",
    "e = e[e % 2 == 1]\n",
    "\n",
    "print(e)"
   ]
  },
  {
   "cell_type": "code",
   "execution_count": 9,
   "metadata": {},
   "outputs": [
    {
     "name": "stdout",
     "output_type": "stream",
     "text": [
      "[ 0 -1  2 -1  4 -1  6 -1  8 -1]\n"
     ]
    }
   ],
   "source": [
    "# 5. How to replace items that satisfy a condition with another value in numpy array?\n",
    "#     Q. Replace all odd numbers in arr with -1\n",
    "\n",
    "\n",
    "f = np.array([0, 1, 2, 3, 4, 5, 6, 7, 8, 9])\n",
    "f[f % 2 == 1] = -1\n",
    "\n",
    "print(f)"
   ]
  },
  {
   "cell_type": "code",
   "execution_count": 10,
   "metadata": {},
   "outputs": [
    {
     "name": "stdout",
     "output_type": "stream",
     "text": [
      "[0 1 2 3 4 5 6 7 8 9]\n",
      "[ 0 -1  2 -1  4 -1  6 -1  8 -1]\n"
     ]
    }
   ],
   "source": [
    "# 6. How to replace items that satisfy a condition without affecting the original array?\n",
    "#     Q. Replace all odd numbers in arr with -1 without changing arr\n",
    "\n",
    "\n",
    "g = np.array([0, 1, 2, 3, 4, 5, 6, 7, 8, 9])\n",
    "g_2 = g\n",
    "g_2 = np.where(g_2 % 2 == 1,-1, g_2)\n",
    "\n",
    "print(g)\n",
    "print(g_2)"
   ]
  },
  {
   "cell_type": "code",
   "execution_count": 11,
   "metadata": {},
   "outputs": [
    {
     "data": {
      "text/plain": [
       "array([[0, 1, 2, 3, 4],\n",
       "       [5, 6, 7, 8, 9]])"
      ]
     },
     "execution_count": 11,
     "metadata": {},
     "output_type": "execute_result"
    }
   ],
   "source": [
    "# 7. How to reshape an array?\n",
    "#      Q. Convert a 1D array to a 2D array with 2 rows\n",
    "\n",
    "h = np.arange(10).reshape(2, -1)\n",
    "h\n"
   ]
  },
  {
   "cell_type": "code",
   "execution_count": 17,
   "metadata": {},
   "outputs": [
    {
     "data": {
      "text/plain": [
       "array([[0, 1, 2, 3, 4],\n",
       "       [5, 6, 7, 8, 9],\n",
       "       [1, 1, 1, 1, 1],\n",
       "       [1, 1, 1, 1, 1]])"
      ]
     },
     "execution_count": 17,
     "metadata": {},
     "output_type": "execute_result"
    }
   ],
   "source": [
    "# 8. How to stack two arrays vertically?\n",
    "#     Q. Stack arrays a and b vertically\n",
    "\n",
    "i = np.arange(10).reshape(2,-1)\n",
    "j = np.repeat(1, 10).reshape(2,-1)\n",
    "\n",
    "np.concatenate([i, j], axis=0)\n",
    "np.vstack([i, j])"
   ]
  },
  {
   "cell_type": "code",
   "execution_count": 18,
   "metadata": {},
   "outputs": [
    {
     "data": {
      "text/plain": [
       "array([[0, 1, 2, 3, 4, 1, 1, 1, 1, 1],\n",
       "       [5, 6, 7, 8, 9, 1, 1, 1, 1, 1]])"
      ]
     },
     "execution_count": 18,
     "metadata": {},
     "output_type": "execute_result"
    }
   ],
   "source": [
    "# 9. How to stack two arrays horizontally?\n",
    "#     Q. Stack the arrays a and b horizontally.\n",
    "\n",
    "k = np.arange(10).reshape(2,-1)\n",
    "l = np.repeat(1, 10).reshape(2,-1)\n",
    "\n",
    "np.concatenate([k, l], axis=1)\n"
   ]
  },
  {
   "cell_type": "code",
   "execution_count": 35,
   "metadata": {},
   "outputs": [
    {
     "data": {
      "text/plain": [
       "array([1, 1, 1, 2, 2, 2, 3, 3, 3, 1, 2, 3, 1, 2, 3, 1, 2, 3])"
      ]
     },
     "execution_count": 35,
     "metadata": {},
     "output_type": "execute_result"
    }
   ],
   "source": [
    "# 10. How to generate custom sequences in numpy without hardcoding?\n",
    "#     Q. Create the following pattern without hardcoding. Use only numpy functions and the below input array a.\n",
    "m = np.array([1,2,3])\n",
    "\n",
    "np.concatenate([np.repeat(m, 3), np.tile(m, 3)])\n",
    "# np.r_[np.repeat(a, 3), np.tile(a, 3)] - IDK kow its work\n",
    "\n"
   ]
  },
  {
   "cell_type": "code",
   "execution_count": 39,
   "metadata": {},
   "outputs": [
    {
     "data": {
      "text/plain": [
       "array([2, 4])"
      ]
     },
     "execution_count": 39,
     "metadata": {},
     "output_type": "execute_result"
    }
   ],
   "source": [
    "# 11. How to get the common items between two python numpy arrays?\n",
    "#     Q. Get the common items between a and b\n",
    "\n",
    "n = np.array([1,2,3,2,3,4,3,4,5,6])\n",
    "o= np.array([7,2,10,2,7,4,9,4,9,8,])\n",
    "\n",
    "np.intersect1d(n,o)\n",
    "\n"
   ]
  },
  {
   "cell_type": "code",
   "execution_count": 41,
   "metadata": {},
   "outputs": [
    {
     "ename": "NameError",
     "evalue": "name 'prstuwxyz' is not defined",
     "output_type": "error",
     "traceback": [
      "\u001b[1;31m---------------------------------------------------------------------------\u001b[0m",
      "\u001b[1;31mNameError\u001b[0m                                 Traceback (most recent call last)",
      "\u001b[1;32m<ipython-input-41-1e58c42586dc>\u001b[0m in \u001b[0;36m<module>\u001b[1;34m\u001b[0m\n\u001b[1;32m----> 1\u001b[1;33m \u001b[0mprstuwxyz\u001b[0m\u001b[1;33m\u001b[0m\u001b[1;33m\u001b[0m\u001b[0m\n\u001b[0m",
      "\u001b[1;31mNameError\u001b[0m: name 'prstuwxyz' is not defined"
     ]
    }
   ],
   "source": [
    "\n",
    "prstuwxyz"
   ]
  },
  {
   "cell_type": "code",
   "execution_count": 42,
   "metadata": {},
   "outputs": [],
   "source": [
    "# 12. How to remove from one array those items that exist in another?\n",
    "#     Q. From array a remove all items present in array b\n",
    "\n"
   ]
  },
  {
   "cell_type": "code",
   "execution_count": 44,
   "metadata": {},
   "outputs": [],
   "source": [
    "# 13. How to get the positions where elements of two arrays match?\n",
    "#     Q. Get the positions where elements of a and b match\n",
    "\n"
   ]
  },
  {
   "cell_type": "code",
   "execution_count": 45,
   "metadata": {},
   "outputs": [],
   "source": [
    "# 14. How to extract all numbers between a given range from a numpy array?\n",
    "#         a = np.array([2, 6, 1, 9, 10, 3, 27])\n"
   ]
  },
  {
   "cell_type": "code",
   "execution_count": 46,
   "metadata": {},
   "outputs": [],
   "source": [
    "# 15. How to make a python function that handles scalars to work on numpy arrays?\n",
    "#     Q. Convert the function maxx that works on two scalars, to work on two arrays.\n",
    "\n"
   ]
  },
  {
   "cell_type": "code",
   "execution_count": 47,
   "metadata": {},
   "outputs": [],
   "source": [
    "# 16. How to swap two columns in a 2d numpy array?\n",
    "#     Q. Swap columns 1 and 2 in the array arr.\n",
    "\n"
   ]
  },
  {
   "cell_type": "code",
   "execution_count": null,
   "metadata": {},
   "outputs": [],
   "source": [
    "# 17. How to swap two rows in a 2d numpy array?\n",
    "#     Q. Swap rows 1 and 2 in the array arr:\n",
    "\n"
   ]
  }
 ],
 "metadata": {
  "kernelspec": {
   "display_name": "Python 3",
   "language": "python",
   "name": "python3"
  },
  "language_info": {
   "codemirror_mode": {
    "name": "ipython",
    "version": 3
   },
   "file_extension": ".py",
   "mimetype": "text/x-python",
   "name": "python",
   "nbconvert_exporter": "python",
   "pygments_lexer": "ipython3",
   "version": "3.8.3"
  }
 },
 "nbformat": 4,
 "nbformat_minor": 4
}
